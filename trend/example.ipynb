{
 "cells": [
  {
   "cell_type": "markdown",
   "id": "d122d1bd-3e11-4caf-ac33-59bae11542ad",
   "metadata": {},
   "source": [
    "# China A Stock Analyzer\n",
    "This is an analyzer of stocks traded in the China A market, used to acquire and analyze stock data and capture signals of a rising trend (short-term)\n",
    "\n",
    "### DataAcquisitor: Acquire data of an individual stock\n",
    "This class handles acquisition of data of individual stocks. We take 科大讯飞(SZ:002230) and 中国海油(SH:600938) as an example."
   ]
  },
  {
   "cell_type": "code",
   "execution_count": null,
   "id": "1c8a3edf-d559-47e5-8b9b-54926935c8f7",
   "metadata": {},
   "outputs": [],
   "source": [
    "from urllib.parse import urlencode\n",
    "import pandas as pd\n",
    "import requests\n",
    "\n",
    "from DataAcquisitor import DataAcquisitor"
   ]
  },
  {
   "cell_type": "markdown",
   "id": "60267a64-5ad0-4220-82de-416cc2b64519",
   "metadata": {},
   "source": [
    "#### The detailed solution is from an experienced engineer [Micro-sheep](https://github.com/Micro-sheep) in [Zhihu](https://zhuanlan.zhihu.com/p/350578719)"
   ]
  },
  {
   "cell_type": "code",
   "execution_count": null,
   "id": "1e3e5fc1",
   "metadata": {},
   "outputs": [],
   "source": [
    "# 股票代码\n",
    "codes = [\"002230\", \"600938\"] \n",
    "\n",
    "# 开始日期\n",
    "start_date = \"20200621\"\n",
    "# 结束日期\n",
    "end_date   = \"20230621\"\n",
    "\n",
    "for code in codes:\n",
    "    print(f\"正在获取 {code} 从 {start_date} 到 {end_date} 的 k线数据......\")\n",
    "    # 根据股票代码、开始日期、结束日期获取指定股票代码指定日期区间的k线数据\n",
    "    dataAcquisitor = DataAcquisitor(code, start_date, end_date, mode = 0, outDir = \"stock_price_data\")\n",
    "    dataAcquisitor.save_to_csv()\n",
    "    # 保存k线数据到表格里面\n",
    "    print(f\"股票代码：{code} 的 k线数据已保存到指定目录下的 {code}.csv 文件中\")"
   ]
  },
  {
   "cell_type": "markdown",
   "id": "ffaced24-958e-4340-bfb8-6187dfd81f39",
   "metadata": {
    "tags": []
   },
   "source": [
    "### DataAnalyzer: Analyze data of an individual stock\n",
    "This class calculate K-line, moving averages (MAs), derivatives and local extremums of MAs, in order to capture signals of a rising trend and potentially an optimal buying point."
   ]
  },
  {
   "cell_type": "code",
   "execution_count": null,
   "id": "60869a6d-9496-45f0-b7dc-76608dbd99af",
   "metadata": {},
   "outputs": [],
   "source": [
    "import numpy as np\n",
    "import matplotlib.pyplot as plt\n",
    "import pandas as pd\n",
    "from DataAcquisitor import DataAcquisitor\n",
    "\n",
    "from DataAnalyzer import DataAnalyzer"
   ]
  },
  {
   "cell_type": "code",
   "execution_count": null,
   "id": "c8793849-4f76-4a33-9b84-6ece15f62818",
   "metadata": {},
   "outputs": [],
   "source": [
    "codes = [\"002230\", \"600938\"] \n",
    "    \n",
    "signals = []\n",
    "for code in codes:\n",
    "    print(f\"正在分析 {code} 的k线数据......\")\n",
    "    # read K-line data\n",
    "    dataAcquisitor = DataAcquisitor(code, 0, 0, mode = 1, inDir = \"stock_price_data\")\n",
    "    dataAnalyzer = DataAnalyzer(dataAcquisitor)\n",
    "    signal = dataAnalyzer.send_signal()\n",
    "    print(f\"{code} 的购买观察信号为 {signal}\")\n",
    "    signals.append(signal)\n",
    "    \n",
    "signals = np.array(signals)# 1 - 长观察 2 - 短观察"
   ]
  },
  {
   "cell_type": "code",
   "execution_count": null,
   "id": "b3dd22e9",
   "metadata": {},
   "outputs": [],
   "source": []
  }
 ],
 "metadata": {
  "kernelspec": {
   "display_name": "Python 3 (ipykernel)",
   "language": "python",
   "name": "python3"
  },
  "language_info": {
   "codemirror_mode": {
    "name": "ipython",
    "version": 3
   },
   "file_extension": ".py",
   "mimetype": "text/x-python",
   "name": "python",
   "nbconvert_exporter": "python",
   "pygments_lexer": "ipython3",
   "version": "3.9.7"
  }
 },
 "nbformat": 4,
 "nbformat_minor": 5
}
